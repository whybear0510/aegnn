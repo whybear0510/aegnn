{
 "cells": [
  {
   "attachments": {},
   "cell_type": "markdown",
   "metadata": {},
   "source": [
    "```\n",
    "Sample 0, file_id ['sequence_14660']:\n",
    " sync output = tensor([[-48190.,  47253.]], device='cuda:0')\n",
    "async output = tensor([[-48164.,  47225.]], device='cuda:0')\n",
    "\n",
    "Sample 1, file_id ['sequence_13605']:                                                                                                                                \n",
    " sync output = tensor([[-23171.,  23808.]], device='cuda:0')\n",
    "async output = tensor([[-23171.,  23808.]], device='cuda:0')\n",
    "\n",
    "Sample 2, file_id ['sequence_15095']:                                                                                                                                \n",
    " sync output = tensor([[-11604.,  12463.]], device='cuda:0')\n",
    "async output = tensor([[-11607.,  12475.]], device='cuda:0') \n",
    "\n",
    "Sample 3, file_id ['sequence_15287']:                                                                                                                                \n",
    " sync output = tensor([[ 40866., -40905.]], device='cuda:0')\n",
    "async output = tensor([[ 40866., -40905.]], device='cuda:0')   \n",
    "```"
   ]
  },
  {
   "cell_type": "code",
   "execution_count": 25,
   "metadata": {},
   "outputs": [
    {
     "name": "stdout",
     "output_type": "stream",
     "text": [
      "4073\n",
      "2657\n",
      "11479\n",
      "2426\n"
     ]
    }
   ],
   "source": [
    "import numpy as np\n",
    "\n",
    "ncars_dir = '/space/yyang22/datasets/data/storage/ncars/validation/'\n",
    "file_ids = ['sequence_14660', 'sequence_13605', 'sequence_15095', 'sequence_15287']\n",
    "\n",
    "\n",
    "\n",
    "for file_id in file_ids:\n",
    "    ncars_events = ncars_dir + file_id + '/events.txt'\n",
    "    ncars_target = ncars_dir + file_id + '/is_car.txt'\n",
    "\n",
    "    is_car = np.loadtxt(ncars_target)\n",
    "    events_array = np.loadtxt(ncars_events)\n",
    "    num_events = events_array.shape[0]\n",
    "    events_array[:, 2] *= 1e6\n",
    "    events_array = events_array.round().astype(int)\n",
    "    x = events_array[:, 0]\n",
    "    y = events_array[:, 1]\n",
    "    t = events_array[:, 2]\n",
    "    p = events_array[:, 3]\n",
    "    print(num_events)\n",
    "\n",
    "\n",
    "    with open(f'./hw_debug_data/{file_id}.h', 'w') as f:\n",
    "        f.write(f'#include \"hugnet_ncars.h\"\\n\\n')\n",
    "        f.write(f'int {file_id}_is_car = {is_car.astype(int)};\\n\\n')\n",
    "        f.write(f'int {file_id}_num_events = {num_events};\\n\\n')\n",
    "        f.write(f'event_s {file_id} [{num_events}] = {{\\n')\n",
    "        for i in range(num_events-1):\n",
    "            f.write(f'{{ {x[i]:6d},{y[i]:6d},{p[i]:6d},{t[i]:6d} }},\\n')\n",
    "        f.write(f'{{ {x[num_events-1]:6d},{y[num_events-1]:6d},{p[num_events-1]:6d},{t[num_events-1]:6d} }}\\n')\n",
    "        f.write(f'}};')\n",
    "\n",
    "\n"
   ]
  }
 ],
 "metadata": {
  "kernelspec": {
   "display_name": "aegnn",
   "language": "python",
   "name": "python3"
  },
  "language_info": {
   "codemirror_mode": {
    "name": "ipython",
    "version": 3
   },
   "file_extension": ".py",
   "mimetype": "text/x-python",
   "name": "python",
   "nbconvert_exporter": "python",
   "pygments_lexer": "ipython3",
   "version": "3.8.13"
  },
  "orig_nbformat": 4
 },
 "nbformat": 4,
 "nbformat_minor": 2
}
